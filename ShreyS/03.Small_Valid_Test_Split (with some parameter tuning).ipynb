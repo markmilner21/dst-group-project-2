{
 "cells": [
  {
   "cell_type": "code",
   "execution_count": 1,
   "metadata": {
    "id": "uPNvSvA8cruH"
   },
   "outputs": [],
   "source": [
    "import os\n",
    "import numpy as np\n",
    "import pandas as pd\n",
    "import matplotlib.pyplot as plt\n",
    "\n",
    "from sklearn.model_selection import train_test_split\n",
    "\n",
    "from tensorflow.keras.models import Sequential\n",
    "from tensorflow.keras.layers import Conv2D, MaxPooling2D, Flatten, Dense\n",
    "from tensorflow.keras.optimizers import Adamax\n",
    "from tensorflow.keras.preprocessing.image import ImageDataGenerator\n",
    "\n",
    "from sklearn.metrics import classification_report, confusion_matrix"
   ]
  },
  {
   "cell_type": "code",
   "execution_count": 2,
   "metadata": {
    "colab": {
     "base_uri": "https://localhost:8080/"
    },
    "id": "SXKN-7Ghvx6U",
    "outputId": "4e7300c8-228a-492f-d996-618c2afc0fec"
   },
   "outputs": [
    {
     "name": "stdout",
     "output_type": "stream",
     "text": [
      "Requirement already satisfied: kagglehub in /usr/local/lib/python3.10/dist-packages (0.3.3)\n",
      "Requirement already satisfied: packaging in /usr/local/lib/python3.10/dist-packages (from kagglehub) (24.1)\n",
      "Requirement already satisfied: requests in /usr/local/lib/python3.10/dist-packages (from kagglehub) (2.32.3)\n",
      "Requirement already satisfied: tqdm in /usr/local/lib/python3.10/dist-packages (from kagglehub) (4.66.6)\n",
      "Requirement already satisfied: charset-normalizer<4,>=2 in /usr/local/lib/python3.10/dist-packages (from requests->kagglehub) (3.4.0)\n",
      "Requirement already satisfied: idna<4,>=2.5 in /usr/local/lib/python3.10/dist-packages (from requests->kagglehub) (3.10)\n",
      "Requirement already satisfied: urllib3<3,>=1.21.1 in /usr/local/lib/python3.10/dist-packages (from requests->kagglehub) (2.2.3)\n",
      "Requirement already satisfied: certifi>=2017.4.17 in /usr/local/lib/python3.10/dist-packages (from requests->kagglehub) (2024.8.30)\n"
     ]
    }
   ],
   "source": [
    "!pip install kagglehub"
   ]
  },
  {
   "cell_type": "code",
   "execution_count": 2,
   "metadata": {
    "colab": {
     "base_uri": "https://localhost:8080/"
    },
    "id": "WLZrmm6Zb0es",
    "outputId": "44c41eb5-56dd-467a-a41d-3d99ce14dfb6"
   },
   "outputs": [
    {
     "name": "stdout",
     "output_type": "stream",
     "text": [
      "Path to dataset files: C:\\Users\\shrey\\.cache\\kagglehub\\datasets\\masoudnickparvar\\brain-tumor-mri-dataset\\versions\\1\n"
     ]
    }
   ],
   "source": [
    "import kagglehub\n",
    "\n",
    "# Download latest version\n",
    "path = kagglehub.dataset_download(\"masoudnickparvar/brain-tumor-mri-dataset\")\n",
    "\n",
    "print(\"Path to dataset files:\", path)"
   ]
  },
  {
   "cell_type": "code",
   "execution_count": 3,
   "metadata": {
    "colab": {
     "base_uri": "https://localhost:8080/"
    },
    "id": "pfkUwa1ScJt0",
    "outputId": "5a384ccb-aec6-403b-fb40-eb5a171c58ee"
   },
   "outputs": [
    {
     "name": "stdout",
     "output_type": "stream",
     "text": [
      "Number of duplicates : 0\n"
     ]
    }
   ],
   "source": [
    "import hashlib\n",
    "\n",
    "\n",
    "PROJECT_DIR = path\n",
    "LABELS = ['pituitary','notumor', 'meningioma', 'glioma']\n",
    "def compute_hash(file):\n",
    "    hasher = hashlib.md5()\n",
    "    with open(file, 'rb') as f:\n",
    "        buf = f.read()\n",
    "        hasher.update(buf)\n",
    "    return hasher.hexdigest()\n",
    "\n",
    "\n",
    "def list_files(hash_dict):\n",
    "    for data_type in ['Training', 'Testing']:\n",
    "        for label in LABELS:\n",
    "            folder_path = os.path.join(PROJECT_DIR, 'data', 'raw', data_type, label)\n",
    "            for root, dirs, files in os.walk(folder_path):\n",
    "                for file in files:\n",
    "                    if file.endswith(\".jpg\"):\n",
    "                        file_path = os.path.join(root, file)\n",
    "                        file_hash = compute_hash(file_path)\n",
    "                        if file_hash in hash_dict:\n",
    "                            hash_dict[file_hash].append(file_path)\n",
    "                        else:\n",
    "                            hash_dict[file_hash] = [file_path]\n",
    "\n",
    "\n",
    "def remove_duplicates(hash_dict):\n",
    "    duplicate_count = 0\n",
    "    for hash_value, file_paths in hash_dict.items():\n",
    "        if len(file_paths) > 1:\n",
    "            for file_path in file_paths[1:]:\n",
    "                print(f\"Removing duplicate (hash : {hash_value}) : {file_path}\")\n",
    "                os.remove(file_path)\n",
    "                duplicate_count += 1\n",
    "    print(f\"Number of duplicates : {duplicate_count}\")\n",
    "\n",
    "\n",
    "if __name__ == '__main__':\n",
    "    hash_dict = {}\n",
    "    list_files(hash_dict)\n",
    "    remove_duplicates(hash_dict)"
   ]
  },
  {
   "cell_type": "markdown",
   "metadata": {
    "id": "0LbHHOq5vx6W"
   },
   "source": [
    "# Creating data frames of the images:   \n",
    "This allows me to use the images witht thier filepaths from both the training and testing data set as a data frame instead of uploading each image and plotting it. In my opinion it makes it slighlt simpler."
   ]
  },
  {
   "cell_type": "code",
   "execution_count": 17,
   "metadata": {
    "colab": {
     "base_uri": "https://localhost:8080/",
     "height": 423
    },
    "id": "BpJbK3XSgudk",
    "outputId": "e1b582fe-ccb3-45ce-aa5d-ec6e69092ccf"
   },
   "outputs": [
    {
     "data": {
      "text/plain": [
       "'C:/Users/shrey/.cache/kagglehub/datasets/masoudnickparvar/brain-tumor-mri-dataset/versions/1/Training\\\\meningioma\\\\Tr-me_0179.jpg'"
      ]
     },
     "execution_count": 17,
     "metadata": {},
     "output_type": "execute_result"
    }
   ],
   "source": [
    "train_dir = 'C:/Users/shrey/.cache/kagglehub/datasets/masoudnickparvar/brain-tumor-mri-dataset/versions/1/Training'\n",
    "\n",
    "filepaths = []\n",
    "labels = []\n",
    "\n",
    "\n",
    "folds = os.listdir(train_dir)\n",
    "images=[]\n",
    "for fold in folds:\n",
    "    foldpath = os.path.join(train_dir, fold)\n",
    "\n",
    "\n",
    "    files = os.listdir(foldpath)\n",
    "    for f in files:\n",
    "        fpath = os.path.join(foldpath, f)\n",
    "        #img = Image.open(fpath)\n",
    "        #images.append(img)\n",
    "\n",
    "        filepaths.append(fpath)\n",
    "        labels.append(fold)\n",
    "\n",
    "#if images:  # Check if the list is not empty\n",
    "    #plt.imshow(images[0])  # Display the first image\n",
    "    #plt.axis('off')  # Hide axis for a cleaner look\n",
    "    #plt.show()\n",
    "train_df = pd.DataFrame(data={'filepaths':filepaths, 'labels':labels})"
   ]
  },
  {
   "cell_type": "code",
   "execution_count": 32,
   "metadata": {
    "colab": {
     "base_uri": "https://localhost:8080/",
     "height": 423
    },
    "id": "lXVuURuxhvgA",
    "outputId": "5533e046-ab05-4400-88bc-3afbf604243e"
   },
   "outputs": [
    {
     "data": {
      "text/plain": [
       "'C:/Users/shrey/.cache/kagglehub/datasets/masoudnickparvar/brain-tumor-mri-dataset/versions/1/Testing\\\\pituitary\\\\Te-pi_0239.jpg'"
      ]
     },
     "execution_count": 32,
     "metadata": {},
     "output_type": "execute_result"
    }
   ],
   "source": [
    "test_dir = 'C:/Users/shrey/.cache/kagglehub/datasets/masoudnickparvar/brain-tumor-mri-dataset/versions/1/Testing'\n",
    "\n",
    "filepaths = []\n",
    "labels = []\n",
    "\n",
    "\n",
    "folds = os.listdir(test_dir)\n",
    "\n",
    "for fold in folds:\n",
    "    foldpath = os.path.join(test_dir, fold)\n",
    "\n",
    "    files = os.listdir(foldpath)\n",
    "    for f in files:\n",
    "        fpath = os.path.join(foldpath, f)\n",
    "         #img = Image.open(fpath)\n",
    "        #images.append(img)\n",
    "\n",
    "\n",
    "        filepaths.append(fpath)\n",
    "        labels.append(fold)\n",
    "\n",
    "\n",
    "#if images:  # Check if the list is not empty\n",
    "    #plt.imshow(images[0])  # Display the first image\n",
    "    #plt.axis('off')  # Hide axis for a cleaner look\n",
    "    #plt.show()\n",
    "ts_df = pd.DataFrame(data={'filepaths':filepaths, 'labels':labels})\n",
    "filepaths[1250]"
   ]
  },
  {
   "cell_type": "code",
   "execution_count": null,
   "metadata": {
    "id": "GaWJFpLSmRCn",
    "outputId": "54373d54-507e-44bb-df0a-fd9138668bf4"
   },
   "outputs": [
    {
     "name": "stdout",
     "output_type": "stream",
     "text": [
      "Requirement already satisfied: matplotlib in c:\\users\\shrey\\anaconda3\\lib\\site-packages (3.8.4)\n",
      "Requirement already satisfied: pillow in c:\\users\\shrey\\anaconda3\\lib\\site-packages (10.3.0)\n",
      "Requirement already satisfied: contourpy>=1.0.1 in c:\\users\\shrey\\anaconda3\\lib\\site-packages (from matplotlib) (1.2.0)\n",
      "Requirement already satisfied: cycler>=0.10 in c:\\users\\shrey\\anaconda3\\lib\\site-packages (from matplotlib) (0.11.0)\n",
      "Requirement already satisfied: fonttools>=4.22.0 in c:\\users\\shrey\\anaconda3\\lib\\site-packages (from matplotlib) (4.51.0)\n",
      "Requirement already satisfied: kiwisolver>=1.3.1 in c:\\users\\shrey\\anaconda3\\lib\\site-packages (from matplotlib) (1.4.4)\n",
      "Requirement already satisfied: numpy>=1.21 in c:\\users\\shrey\\anaconda3\\lib\\site-packages (from matplotlib) (1.26.4)\n",
      "Requirement already satisfied: packaging>=20.0 in c:\\users\\shrey\\anaconda3\\lib\\site-packages (from matplotlib) (23.2)\n",
      "Requirement already satisfied: pyparsing>=2.3.1 in c:\\users\\shrey\\anaconda3\\lib\\site-packages (from matplotlib) (3.0.9)\n",
      "Requirement already satisfied: python-dateutil>=2.7 in c:\\users\\shrey\\anaconda3\\lib\\site-packages (from matplotlib) (2.9.0.post0)\n",
      "Requirement already satisfied: six>=1.5 in c:\\users\\shrey\\anaconda3\\lib\\site-packages (from python-dateutil>=2.7->matplotlib) (1.16.0)\n"
     ]
    }
   ],
   "source": [
    "!pip install matplotlib pillow"
   ]
  },
  {
   "cell_type": "code",
   "execution_count": 8,
   "metadata": {
    "id": "VYwpezuHvx6X"
   },
   "outputs": [],
   "source": [
    "valid_df, test_df = train_test_split(ts_df, test_size=0.5, random_state=42)"
   ]
  },
  {
   "cell_type": "code",
   "execution_count": 9,
   "metadata": {
    "colab": {
     "base_uri": "https://localhost:8080/"
    },
    "id": "yqGAUgv1vx6Y",
    "outputId": "d3aa36b0-9099-4f21-80e8-6cae521198bc"
   },
   "outputs": [
    {
     "name": "stdout",
     "output_type": "stream",
     "text": [
      "Found 5712 validated image filenames belonging to 4 classes.\n",
      "Found 655 validated image filenames belonging to 4 classes.\n",
      "Found 656 validated image filenames belonging to 4 classes.\n"
     ]
    }
   ],
   "source": [
    "datagen = ImageDataGenerator(rescale=1.0/255,\n",
    "    rotation_range=20,\n",
    "    width_shift_range=0.2,\n",
    "    height_shift_range=0.2,\n",
    "    shear_range=0.2,\n",
    "    zoom_range=0.2,\n",
    "    horizontal_flip=True,\n",
    "    fill_mode='nearest')\n",
    "gen = ImageDataGenerator(rescale=1.0/255)\n",
    "\n",
    "train_gen = datagen.flow_from_dataframe(train_df, x_col='filepaths', y_col='labels', target_size=(100, 100),\n",
    "                                   color_mode='rgb', class_mode='categorical', batch_size=32,subset='training')\n",
    "valid_gen =  datagen.flow_from_dataframe(valid_df, x_col='filepaths', y_col='labels', target_size=(100,100),\n",
    "                                     color_mode='rgb', class_mode='categorical', batch_size=32)\n",
    "test_gen = gen.flow_from_dataframe(test_df, x_col='filepaths', y_col='labels', target_size=(100,100),\n",
    "                                   color_mode='rgb', class_mode='categorical', batch_size=32,shuffle='False')\n",
    "\n"
   ]
  },
  {
   "cell_type": "code",
   "execution_count": 10,
   "metadata": {
    "colab": {
     "base_uri": "https://localhost:8080/"
    },
    "id": "YzkjJrlavx6Z",
    "outputId": "99c6e1e0-7418-4356-cec7-b5bc0fadbde1"
   },
   "outputs": [
    {
     "name": "stderr",
     "output_type": "stream",
     "text": [
      "/usr/local/lib/python3.10/dist-packages/keras/src/layers/convolutional/base_conv.py:107: UserWarning: Do not pass an `input_shape`/`input_dim` argument to a layer. When using Sequential models, prefer using an `Input(shape)` object as the first layer in the model instead.\n",
      "  super().__init__(activity_regularizer=activity_regularizer, **kwargs)\n"
     ]
    }
   ],
   "source": [
    "model = Sequential([\n",
    "    Conv2D(1024, kernel_size=(3, 3), activation='relu', input_shape=(100, 100, 3)),\n",
    "    MaxPooling2D((2, 2)),\n",
    "\n",
    "    Conv2D(512, kernel_size=(3, 3), activation='relu'),\n",
    "    MaxPooling2D((2, 2)),\n",
    "\n",
    "    Conv2D(256, kernel_size=(3, 3), activation='relu'),\n",
    "    Conv2D(128, kernel_size=(3, 3), activation='relu'),\n",
    "    MaxPooling2D((2, 2)),\n",
    "\n",
    "    Conv2D(64, kernel_size=(3, 3), activation='relu'),\n",
    "    MaxPooling2D((2, 2)),\n",
    "\n",
    "    Flatten(),\n",
    "\n",
    "    Dense(256, activation='relu'),\n",
    "    Dense(128, activation='relu'),\n",
    "\n",
    "    Dense(4, activation='softmax')\n",
    "])\n",
    "model.compile(optimizer=Adamax(learning_rate=0.001), loss='categorical_crossentropy', metrics=['accuracy'])"
   ]
  },
  {
   "cell_type": "code",
   "execution_count": 11,
   "metadata": {
    "colab": {
     "base_uri": "https://localhost:8080/"
    },
    "id": "7o2OB2Fnvx6Z",
    "outputId": "a554105c-95a1-41c4-8f66-5acd2cf883e6"
   },
   "outputs": [
    {
     "name": "stdout",
     "output_type": "stream",
     "text": [
      "Epoch 1/15\n"
     ]
    },
    {
     "name": "stderr",
     "output_type": "stream",
     "text": [
      "/usr/local/lib/python3.10/dist-packages/keras/src/trainers/data_adapters/py_dataset_adapter.py:121: UserWarning: Your `PyDataset` class should call `super().__init__(**kwargs)` in its constructor. `**kwargs` can include `workers`, `use_multiprocessing`, `max_queue_size`. Do not pass these arguments to `fit()`, as they will be ignored.\n",
      "  self._warn_if_super_not_called()\n"
     ]
    },
    {
     "name": "stdout",
     "output_type": "stream",
     "text": [
      "\u001b[1m179/179\u001b[0m \u001b[32m━━━━━━━━━━━━━━━━━━━━\u001b[0m\u001b[37m\u001b[0m \u001b[1m114s\u001b[0m 466ms/step - accuracy: 0.3720 - loss: 1.2381 - val_accuracy: 0.5389 - val_loss: 1.0586\n",
      "Epoch 2/15\n",
      "\u001b[1m179/179\u001b[0m \u001b[32m━━━━━━━━━━━━━━━━━━━━\u001b[0m\u001b[37m\u001b[0m \u001b[1m90s\u001b[0m 333ms/step - accuracy: 0.5915 - loss: 0.9466 - val_accuracy: 0.5908 - val_loss: 1.0171\n",
      "Epoch 3/15\n",
      "\u001b[1m179/179\u001b[0m \u001b[32m━━━━━━━━━━━━━━━━━━━━\u001b[0m\u001b[37m\u001b[0m \u001b[1m83s\u001b[0m 340ms/step - accuracy: 0.6373 - loss: 0.8688 - val_accuracy: 0.6168 - val_loss: 0.8992\n",
      "Epoch 4/15\n",
      "\u001b[1m179/179\u001b[0m \u001b[32m━━━━━━━━━━━━━━━━━━━━\u001b[0m\u001b[37m\u001b[0m \u001b[1m80s\u001b[0m 324ms/step - accuracy: 0.6914 - loss: 0.7538 - val_accuracy: 0.6489 - val_loss: 0.8650\n",
      "Epoch 5/15\n",
      "\u001b[1m179/179\u001b[0m \u001b[32m━━━━━━━━━━━━━━━━━━━━\u001b[0m\u001b[37m\u001b[0m \u001b[1m84s\u001b[0m 339ms/step - accuracy: 0.7200 - loss: 0.6965 - val_accuracy: 0.6656 - val_loss: 0.8331\n",
      "Epoch 6/15\n",
      "\u001b[1m179/179\u001b[0m \u001b[32m━━━━━━━━━━━━━━━━━━━━\u001b[0m\u001b[37m\u001b[0m \u001b[1m80s\u001b[0m 330ms/step - accuracy: 0.7543 - loss: 0.6129 - val_accuracy: 0.7008 - val_loss: 0.6938\n",
      "Epoch 7/15\n",
      "\u001b[1m179/179\u001b[0m \u001b[32m━━━━━━━━━━━━━━━━━━━━\u001b[0m\u001b[37m\u001b[0m \u001b[1m82s\u001b[0m 326ms/step - accuracy: 0.7709 - loss: 0.5828 - val_accuracy: 0.7084 - val_loss: 0.7106\n",
      "Epoch 8/15\n",
      "\u001b[1m179/179\u001b[0m \u001b[32m━━━━━━━━━━━━━━━━━━━━\u001b[0m\u001b[37m\u001b[0m \u001b[1m59s\u001b[0m 325ms/step - accuracy: 0.7817 - loss: 0.5662 - val_accuracy: 0.7298 - val_loss: 0.6701\n",
      "Epoch 9/15\n",
      "\u001b[1m179/179\u001b[0m \u001b[32m━━━━━━━━━━━━━━━━━━━━\u001b[0m\u001b[37m\u001b[0m \u001b[1m83s\u001b[0m 329ms/step - accuracy: 0.7923 - loss: 0.5398 - val_accuracy: 0.7466 - val_loss: 0.6323\n",
      "Epoch 10/15\n",
      "\u001b[1m179/179\u001b[0m \u001b[32m━━━━━━━━━━━━━━━━━━━━\u001b[0m\u001b[37m\u001b[0m \u001b[1m81s\u001b[0m 326ms/step - accuracy: 0.8018 - loss: 0.5276 - val_accuracy: 0.7588 - val_loss: 0.6052\n",
      "Epoch 11/15\n",
      "\u001b[1m179/179\u001b[0m \u001b[32m━━━━━━━━━━━━━━━━━━━━\u001b[0m\u001b[37m\u001b[0m \u001b[1m84s\u001b[0m 340ms/step - accuracy: 0.8040 - loss: 0.5017 - val_accuracy: 0.7725 - val_loss: 0.5673\n",
      "Epoch 12/15\n",
      "\u001b[1m179/179\u001b[0m \u001b[32m━━━━━━━━━━━━━━━━━━━━\u001b[0m\u001b[37m\u001b[0m \u001b[1m80s\u001b[0m 327ms/step - accuracy: 0.8337 - loss: 0.4476 - val_accuracy: 0.7740 - val_loss: 0.5572\n",
      "Epoch 13/15\n",
      "\u001b[1m179/179\u001b[0m \u001b[32m━━━━━━━━━━━━━━━━━━━━\u001b[0m\u001b[37m\u001b[0m \u001b[1m81s\u001b[0m 326ms/step - accuracy: 0.8324 - loss: 0.4456 - val_accuracy: 0.7802 - val_loss: 0.5380\n",
      "Epoch 14/15\n",
      "\u001b[1m179/179\u001b[0m \u001b[32m━━━━━━━━━━━━━━━━━━━━\u001b[0m\u001b[37m\u001b[0m \u001b[1m60s\u001b[0m 328ms/step - accuracy: 0.8554 - loss: 0.3973 - val_accuracy: 0.7802 - val_loss: 0.5888\n",
      "Epoch 15/15\n",
      "\u001b[1m179/179\u001b[0m \u001b[32m━━━━━━━━━━━━━━━━━━━━\u001b[0m\u001b[37m\u001b[0m \u001b[1m62s\u001b[0m 340ms/step - accuracy: 0.8638 - loss: 0.3677 - val_accuracy: 0.8290 - val_loss: 0.4347\n"
     ]
    }
   ],
   "source": [
    "history = model.fit(train_gen, validation_data=valid_gen, epochs=15)"
   ]
  },
  {
   "cell_type": "code",
   "execution_count": 12,
   "metadata": {
    "colab": {
     "base_uri": "https://localhost:8080/"
    },
    "id": "QkbySrEMvx6Z",
    "outputId": "b4ce2c5f-e666-4b40-d3bf-791bd9bfd1eb"
   },
   "outputs": [
    {
     "name": "stdout",
     "output_type": "stream",
     "text": [
      "\u001b[1m179/179\u001b[0m \u001b[32m━━━━━━━━━━━━━━━━━━━━\u001b[0m\u001b[37m\u001b[0m \u001b[1m31s\u001b[0m 175ms/step - accuracy: 0.8745 - loss: 0.3540\n",
      "\u001b[1m21/21\u001b[0m \u001b[32m━━━━━━━━━━━━━━━━━━━━\u001b[0m\u001b[37m\u001b[0m \u001b[1m3s\u001b[0m 128ms/step - accuracy: 0.8133 - loss: 0.4593\n",
      "\u001b[1m21/21\u001b[0m \u001b[32m━━━━━━━━━━━━━━━━━━━━\u001b[0m\u001b[37m\u001b[0m \u001b[1m2s\u001b[0m 71ms/step - accuracy: 0.7295 - loss: 0.8005\n",
      "Train Loss:  0.34541624784469604\n",
      "Train Accuracy:  0.8741246461868286\n",
      "--------------------\n",
      "Validation Loss:  0.44634249806404114\n",
      "Validation Accuracy:  0.8167939186096191\n",
      "--------------------\n",
      "Test Loss:  0.7355567216873169\n",
      "Test Accuracy:  0.7393292784690857\n"
     ]
    }
   ],
   "source": [
    "train_score = model.evaluate(train_gen)\n",
    "valid_score = model.evaluate(valid_gen)\n",
    "test_score = model.evaluate(test_gen)\n",
    "\n",
    "print(\"Train Loss: \", train_score[0])\n",
    "print(\"Train Accuracy: \", train_score[1])\n",
    "print('-' * 20)\n",
    "print(\"Validation Loss: \", valid_score[0])\n",
    "print(\"Validation Accuracy: \", valid_score[1])\n",
    "print('-' * 20)\n",
    "print(\"Test Loss: \", test_score[0])\n",
    "print(\"Test Accuracy: \", test_score[1])"
   ]
  },
  {
   "cell_type": "code",
   "execution_count": null,
   "metadata": {
    "id": "gH8zsgUo4Slw"
   },
   "outputs": [],
   "source": []
  }
 ],
 "metadata": {
  "accelerator": "GPU",
  "colab": {
   "gpuType": "T4",
   "provenance": []
  },
  "kernelspec": {
   "display_name": "Python 3 (ipykernel)",
   "language": "python",
   "name": "python3"
  },
  "language_info": {
   "codemirror_mode": {
    "name": "ipython",
    "version": 3
   },
   "file_extension": ".py",
   "mimetype": "text/x-python",
   "name": "python",
   "nbconvert_exporter": "python",
   "pygments_lexer": "ipython3",
   "version": "3.12.4"
  }
 },
 "nbformat": 4,
 "nbformat_minor": 4
}
