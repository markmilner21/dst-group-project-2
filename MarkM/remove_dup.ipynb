{
 "cells": [
  {
   "cell_type": "code",
   "execution_count": 1,
   "metadata": {
    "colab": {
     "base_uri": "https://localhost:8080/"
    },
    "id": "6aW1xqlI4SfE",
    "outputId": "d5070a41-3168-4e90-b044-453cbdf5e14d"
   },
   "outputs": [
    {
     "name": "stdout",
     "output_type": "stream",
     "text": [
      "Requirement already satisfied: kagglehub in /usr/local/lib/python3.10/dist-packages (0.3.3)\n",
      "Requirement already satisfied: packaging in /usr/local/lib/python3.10/dist-packages (from kagglehub) (24.1)\n",
      "Requirement already satisfied: requests in /usr/local/lib/python3.10/dist-packages (from kagglehub) (2.32.3)\n",
      "Requirement already satisfied: tqdm in /usr/local/lib/python3.10/dist-packages (from kagglehub) (4.66.6)\n",
      "Requirement already satisfied: charset-normalizer<4,>=2 in /usr/local/lib/python3.10/dist-packages (from requests->kagglehub) (3.4.0)\n",
      "Requirement already satisfied: idna<4,>=2.5 in /usr/local/lib/python3.10/dist-packages (from requests->kagglehub) (3.10)\n",
      "Requirement already satisfied: urllib3<3,>=1.21.1 in /usr/local/lib/python3.10/dist-packages (from requests->kagglehub) (2.2.3)\n",
      "Requirement already satisfied: certifi>=2017.4.17 in /usr/local/lib/python3.10/dist-packages (from requests->kagglehub) (2024.8.30)\n"
     ]
    }
   ],
   "source": [
    "pip install kagglehub"
   ]
  },
  {
   "cell_type": "code",
   "execution_count": 2,
   "metadata": {
    "colab": {
     "base_uri": "https://localhost:8080/"
    },
    "id": "_eZz_1IP4TBC",
    "outputId": "b26bd9f5-083b-4ef3-f714-86e33a0711e2"
   },
   "outputs": [
    {
     "name": "stdout",
     "output_type": "stream",
     "text": [
      "Downloading from https://www.kaggle.com/api/v1/datasets/download/masoudnickparvar/brain-tumor-mri-dataset?dataset_version_number=1...\n"
     ]
    },
    {
     "name": "stderr",
     "output_type": "stream",
     "text": [
      "100%|██████████| 149M/149M [00:02<00:00, 56.2MB/s]"
     ]
    },
    {
     "name": "stdout",
     "output_type": "stream",
     "text": [
      "Extracting files...\n"
     ]
    },
    {
     "name": "stderr",
     "output_type": "stream",
     "text": [
      "\n"
     ]
    },
    {
     "name": "stdout",
     "output_type": "stream",
     "text": [
      "Path to dataset files: /root/.cache/kagglehub/datasets/masoudnickparvar/brain-tumor-mri-dataset/versions/1\n"
     ]
    }
   ],
   "source": [
    "import kagglehub\n",
    "\n",
    "# Download latest version\n",
    "path = kagglehub.dataset_download(\"masoudnickparvar/brain-tumor-mri-dataset\")\n",
    "\n",
    "print(\"Path to dataset files:\", path)"
   ]
  },
  {
   "cell_type": "code",
   "execution_count": 4,
   "metadata": {
    "colab": {
     "base_uri": "https://localhost:8080/"
    },
    "id": "wXoL9iu54Urh",
    "outputId": "561e01d1-1573-474b-e6fd-e32855583353"
   },
   "outputs": [
    {
     "name": "stdout",
     "output_type": "stream",
     "text": [
      "Number of duplicates : 0\n"
     ]
    }
   ],
   "source": [
    "import os  # Import os module for file operations\n",
    "import hashlib\n",
    "\n",
    "# Define your project directory and labels based on your dataset structure\n",
    "PROJECT_DIR = path\n",
    "LABELS = ['pituitary','notumor', 'meningioma', 'glioma'] # Adjust these labels based on your dataset's folder names\n",
    "\n",
    "def compute_hash(file):\n",
    "    hasher = hashlib.md5()\n",
    "    with open(file, 'rb') as f:\n",
    "        buf = f.read()\n",
    "        hasher.update(buf)\n",
    "    return hasher.hexdigest()\n",
    "\n",
    "\n",
    "def list_files(hash_dict):\n",
    "    for data_type in ['Training', 'Testing']:\n",
    "        for label in LABELS:\n",
    "            folder_path = os.path.join(PROJECT_DIR, 'data', 'raw', data_type, label)\n",
    "            for root, dirs, files in os.walk(folder_path):\n",
    "                for file in files:\n",
    "                    if file.endswith(\".jpg\"):\n",
    "                        file_path = os.path.join(root, file)\n",
    "                        file_hash = compute_hash(file_path)\n",
    "                        if file_hash in hash_dict:\n",
    "                            hash_dict[file_hash].append(file_path)\n",
    "                        else:\n",
    "                            hash_dict[file_hash] = [file_path]\n",
    "\n",
    "\n",
    "def remove_duplicates(hash_dict):\n",
    "    duplicate_count = 0\n",
    "    for hash_value, file_paths in hash_dict.items():\n",
    "        if len(file_paths) > 1:\n",
    "            for file_path in file_paths[1:]:\n",
    "                print(f\"Removing duplicate (hash : {hash_value}) : {file_path}\")\n",
    "                os.remove(file_path)\n",
    "                duplicate_count += 1\n",
    "    print(f\"Number of duplicates : {duplicate_count}\")\n",
    "\n",
    "\n",
    "if __name__ == '__main__':\n",
    "    hash_dict = {}\n",
    "    list_files(hash_dict)\n",
    "    remove_duplicates(hash_dict)"
   ]
  }
 ],
 "metadata": {
  "colab": {
   "provenance": []
  },
  "kernelspec": {
   "display_name": "Python 3",
   "name": "python3"
  },
  "language_info": {
   "name": "python"
  }
 },
 "nbformat": 4,
 "nbformat_minor": 0
}
