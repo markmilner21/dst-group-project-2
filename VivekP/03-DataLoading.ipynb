{
 "cells": [
  {
   "cell_type": "code",
   "execution_count": 1,
   "metadata": {},
   "outputs": [
    {
     "name": "stdout",
     "output_type": "stream",
     "text": [
      "Collecting kagglehub\n",
      "  Downloading kagglehub-0.3.3-py3-none-any.whl.metadata (22 kB)\n",
      "Requirement already satisfied: packaging in c:\\users\\megar\\anaconda3\\lib\\site-packages (from kagglehub) (23.2)\n",
      "Requirement already satisfied: requests in c:\\users\\megar\\anaconda3\\lib\\site-packages (from kagglehub) (2.32.2)\n",
      "Requirement already satisfied: tqdm in c:\\users\\megar\\anaconda3\\lib\\site-packages (from kagglehub) (4.66.4)\n",
      "Requirement already satisfied: charset-normalizer<4,>=2 in c:\\users\\megar\\anaconda3\\lib\\site-packages (from requests->kagglehub) (2.0.4)\n",
      "Requirement already satisfied: idna<4,>=2.5 in c:\\users\\megar\\anaconda3\\lib\\site-packages (from requests->kagglehub) (3.7)\n",
      "Requirement already satisfied: urllib3<3,>=1.21.1 in c:\\users\\megar\\anaconda3\\lib\\site-packages (from requests->kagglehub) (2.2.2)\n",
      "Requirement already satisfied: certifi>=2017.4.17 in c:\\users\\megar\\anaconda3\\lib\\site-packages (from requests->kagglehub) (2024.6.2)\n",
      "Requirement already satisfied: colorama in c:\\users\\megar\\anaconda3\\lib\\site-packages (from tqdm->kagglehub) (0.4.6)\n",
      "Downloading kagglehub-0.3.3-py3-none-any.whl (42 kB)\n",
      "   ---------------------------------------- 0.0/42.9 kB ? eta -:--:--\n",
      "   --------- ------------------------------ 10.2/42.9 kB ? eta -:--:--\n",
      "   -------------------------------------- - 41.0/42.9 kB 653.6 kB/s eta 0:00:01\n",
      "   ---------------------------------------- 42.9/42.9 kB 418.1 kB/s eta 0:00:00\n",
      "Installing collected packages: kagglehub\n",
      "Successfully installed kagglehub-0.3.3\n",
      "Note: you may need to restart the kernel to use updated packages.\n"
     ]
    }
   ],
   "source": [
    "pip install kagglehub"
   ]
  },
  {
   "cell_type": "code",
   "execution_count": 2,
   "metadata": {},
   "outputs": [
    {
     "name": "stdout",
     "output_type": "stream",
     "text": [
      "Downloading from https://www.kaggle.com/api/v1/datasets/download/masoudnickparvar/brain-tumor-mri-dataset?dataset_version_number=1...\n"
     ]
    },
    {
     "name": "stderr",
     "output_type": "stream",
     "text": [
      "100%|██████████| 149M/149M [05:17<00:00, 490kB/s] "
     ]
    },
    {
     "name": "stdout",
     "output_type": "stream",
     "text": [
      "Extracting files...\n"
     ]
    },
    {
     "name": "stderr",
     "output_type": "stream",
     "text": [
      "\n"
     ]
    },
    {
     "name": "stdout",
     "output_type": "stream",
     "text": [
      "Path to dataset files: C:\\Users\\megar\\.cache\\kagglehub\\datasets\\masoudnickparvar\\brain-tumor-mri-dataset\\versions\\1\n"
     ]
    }
   ],
   "source": [
    "import kagglehub\n",
    "\n",
    "# Download latest version\n",
    "path = kagglehub.dataset_download(\"masoudnickparvar/brain-tumor-mri-dataset\")\n",
    "\n",
    "print(\"Path to dataset files:\", path)"
   ]
  },
  {
   "cell_type": "code",
   "execution_count": 14,
   "metadata": {},
   "outputs": [
    {
     "ename": "NameError",
     "evalue": "name 'path' is not defined",
     "output_type": "error",
     "traceback": [
      "\u001b[1;31m---------------------------------------------------------------------------\u001b[0m",
      "\u001b[1;31mNameError\u001b[0m                                 Traceback (most recent call last)",
      "Cell \u001b[1;32mIn[14], line 5\u001b[0m\n\u001b[0;32m      2\u001b[0m \u001b[38;5;28;01mimport\u001b[39;00m \u001b[38;5;21;01mhashlib\u001b[39;00m\n\u001b[0;32m      4\u001b[0m \u001b[38;5;66;03m# Define your project directory and labels based on your dataset structure\u001b[39;00m\n\u001b[1;32m----> 5\u001b[0m PROJECT_DIR \u001b[38;5;241m=\u001b[39m path\n\u001b[0;32m      6\u001b[0m LABELS \u001b[38;5;241m=\u001b[39m [\u001b[38;5;124m'\u001b[39m\u001b[38;5;124mpituitary\u001b[39m\u001b[38;5;124m'\u001b[39m,\u001b[38;5;124m'\u001b[39m\u001b[38;5;124mnotumor\u001b[39m\u001b[38;5;124m'\u001b[39m, \u001b[38;5;124m'\u001b[39m\u001b[38;5;124mmeningioma\u001b[39m\u001b[38;5;124m'\u001b[39m, \u001b[38;5;124m'\u001b[39m\u001b[38;5;124mglioma\u001b[39m\u001b[38;5;124m'\u001b[39m] \u001b[38;5;66;03m# Adjust these labels based on your dataset's folder names\u001b[39;00m\n\u001b[0;32m      8\u001b[0m \u001b[38;5;28;01mdef\u001b[39;00m \u001b[38;5;21mcompute_hash\u001b[39m(file):\n",
      "\u001b[1;31mNameError\u001b[0m: name 'path' is not defined"
     ]
    }
   ],
   "source": [
    "import os  # Import os module for file operations\n",
    "import hashlib\n",
    "\n",
    "# Define your project directory and labels based on your dataset structure\n",
    "PROJECT_DIR = path\n",
    "LABELS = ['pituitary','notumor', 'meningioma', 'glioma'] # Adjust these labels based on your dataset's folder names\n",
    "\n",
    "def compute_hash(file):\n",
    "    hasher = hashlib.md5()\n",
    "    with open(file, 'rb') as f:\n",
    "        buf = f.read()\n",
    "        hasher.update(buf)\n",
    "    return hasher.hexdigest()\n",
    "\n",
    "\n",
    "def list_files(hash_dict):\n",
    "    for data_type in ['Training', 'Testing']:\n",
    "        for label in LABELS:\n",
    "            folder_path = os.path.join(PROJECT_DIR, 'data', 'raw', data_type, label)\n",
    "            for root, dirs, files in os.walk(folder_path):\n",
    "                for file in files:\n",
    "                    if file.endswith(\".jpg\"):\n",
    "                        file_path = os.path.join(root, file)\n",
    "                        file_hash = compute_hash(file_path)\n",
    "                        if file_hash in hash_dict:\n",
    "                            hash_dict[file_hash].append(file_path)\n",
    "                        else:\n",
    "                            hash_dict[file_hash] = [file_path]\n",
    "\n",
    "\n",
    "def remove_duplicates(hash_dict):\n",
    "    duplicate_count = 0\n",
    "    for hash_value, file_paths in hash_dict.items():\n",
    "        if len(file_paths) > 1:\n",
    "            for file_path in file_paths[1:]:\n",
    "                print(f\"Removing duplicate (hash : {hash_value}) : {file_path}\")\n",
    "                os.remove(file_path)\n",
    "                duplicate_count += 1\n",
    "    print(f\"Number of duplicates : {duplicate_count}\")\n",
    "\n",
    "\n",
    "if __name__ == '__main__':\n",
    "    hash_dict = {}\n",
    "    list_files(hash_dict)\n",
    "    remove_duplicates(hash_dict)"
   ]
  }
 ],
 "metadata": {
  "kernelspec": {
   "display_name": "base",
   "language": "python",
   "name": "python3"
  },
  "language_info": {
   "codemirror_mode": {
    "name": "ipython",
    "version": 3
   },
   "file_extension": ".py",
   "mimetype": "text/x-python",
   "name": "python",
   "nbconvert_exporter": "python",
   "pygments_lexer": "ipython3",
   "version": "3.12.4"
  }
 },
 "nbformat": 4,
 "nbformat_minor": 2
}
