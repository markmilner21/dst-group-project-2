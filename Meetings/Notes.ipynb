{
 "cells": [
  {
   "cell_type": "markdown",
   "metadata": {},
   "source": [
    "Meeting 05/11/2024 to choose a dataset.\n",
    "\n",
    "Due to file size limitations, we couldn't consider the following datasets, which were interesting to the group:\n",
    "- https://www.kaggle.com/code/ruslankl/brain-tumor-detection-v1-0-cnn-vgg-16/input (1 GB): This provided an interesting problem, but the file size was prohibitive as we did not have a good file hosting solution.\n",
    "- https://www.kaggle.com/datasets/paultimothymooney/chest-xray-pneumonia (1.24 GB) : This contained around 6000 images, but the file size was unfeasibly large.\n",
    "- https://www.kaggle.com/datasets/kvipularya/a-collection-of-dental-x-ray-images-for-analysis : This dataset was of interest, but was too small to perform meaningful analyses. \n",
    "\n",
    "Through our discussions, we refined our choice to the following 2 datasets: \n",
    "\n",
    "- https://www.kaggle.com/datasets/masoudnickparvar/brain-tumor-mri-dataset : This was of interest to all group members, and conveniently provided a test/train split. We chose this dataset in the end as it was of a reasonable file size, and provided an interesting problem to analyse.\n",
    "\n",
    "- https://github.com/zalandoresearch/fashion-mnist : This was a dataset we considered, as the linked Github provides reasons for its usage. It is more challenging than the standard digits MNIST data, and it is very convenient to import the images as they can be found in packages, and have a small file size.\n"
   ]
  }
 ],
 "metadata": {
  "language_info": {
   "name": "python"
  }
 },
 "nbformat": 4,
 "nbformat_minor": 2
}
