{
 "cells": [
  {
   "cell_type": "markdown",
   "metadata": {},
   "source": [
    "# Introduction\n",
    "\n",
    "In today’s digital era, data generation is reaching unprecedented levels, making the ability to analyze and derive meaningful insights from vast, diverse datasets—often referred to as “big data”—increasingly critical. This surge in data, driven by both technological advances and societal shifts, has transformed data analysis into an essential tool. For instance, tracking consumer behavior to provide hyper-personalized recommendations exemplifies the power of big data.\n",
    "\n",
    "To stay competitive in this data-driven landscape, organizations across sectors such as retail, healthcare, and finance are turning to advanced data science techniques to harness big data’s potential. Exploring how data science methods can be applied to large-scale data has therefore become a topic of significant interest. This project aims to investigate the use of Massively Parallel Data Science methods, specifically convolutional neural networks (CNNs) and GPU-based parallelism, to address a central question:\n",
    "\n",
    "> How do neural network parameters impact performance, and how can parallelism enhance outcomes?\n",
    "\n",
    "To explore this question, we will utilize the Brain Tumor MRI dataset from Kaggle. Our approach combines both the theoretical foundations and practical applications of CNNs, assessing their performance through computational rigor. We will specifically analyze the ReLU, Swish, and hyperbolic tangent (tanh) activation functions. Our report will adopt a \"spiral learning\" structure, where each of us investigates the same parameters individually, providing unique perspectives that allow the reader to progressively deepen their understanding.\n",
    "\n",
    "A core focus will be on scalability, as the ability to handle increasing data volumes becomes essential. We aim to demonstrate how our models perform in high-volume environments, equipping us to tackle the demands of real-world data science applications.\n",
    "\n",
    "Ultimately, this project seeks to enhance understanding of how Massively Parallel Data Science techniques can be applied to extract valuable insights from complex datasets, fostering improved decision-making and innovation in the field of medicine.\n",
    "\n",
    "# References\n",
    "\n",
    "[1] https://cloud.google.com/learn/what-is-big-data\n",
    "\n",
    "[2] Source saying that over 400 million terabyes of data is generated per day. https://explodingtopics.com/blog/data-generated-per-day\n",
    "\n",
    "[3] https://www.icas.com/news/10-companies-using-big-data\n",
    "\n",
    "[4] https://www.surrey.ac.uk/news/what-spiral-curriculum"
   ]
  }
 ],
 "metadata": {
  "language_info": {
   "name": "python"
  }
 },
 "nbformat": 4,
 "nbformat_minor": 2
}
