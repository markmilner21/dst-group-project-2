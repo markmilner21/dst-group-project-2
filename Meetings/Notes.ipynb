{
 "cells": [
  {
   "cell_type": "markdown",
   "metadata": {},
   "source": [
    "Meeting 05/11/2024 to choose a dataset.\n",
    "\n",
    "Due to file size limitations, we couldn't consider the following datasets, which were interesting to the group:\n",
    "- https://www.kaggle.com/code/ruslankl/brain-tumor-detection-v1-0-cnn-vgg-16/input (1 GB)\n",
    "- https://www.kaggle.com/datasets/paultimothymooney/chest-xray-pneumonia (1.24 GB)\n",
    "- https://www.kaggle.com/datasets/kvipularya/a-collection-of-dental-x-ray-images-for-analysis (This was actually too small)\n",
    "\n",
    "Through our discussions, we refined our choice to the following 3 datasets: \n",
    "\n",
    "- https://www.kaggle.com/datasets/masoudnickparvar/brain-tumor-mri-dataset : This was of interest to all group members, and conveniently provided a test/train split. \n",
    "\n",
    "- https://www.kaggle.com/datasets/paultimothymooney/chest-xray-pneumonia\n",
    "\n",
    "- https://github.com/zalandoresearch/fashion-mnist\n"
   ]
  }
 ],
 "metadata": {
  "language_info": {
   "name": "python"
  }
 },
 "nbformat": 4,
 "nbformat_minor": 2
}
